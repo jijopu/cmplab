{
 "cells": [
  {
   "cell_type": "markdown",
   "id": "596e638e",
   "metadata": {},
   "source": [
    "## Modeling Graphene using density functional theory"
   ]
  },
  {
   "cell_type": "markdown",
   "id": "29bcbfee",
   "metadata": {},
   "source": [
    "http://kitchingroup.cheme.cmu.edu/dft-book/dft.html"
   ]
  },
  {
   "cell_type": "markdown",
   "id": "0e9f027e",
   "metadata": {},
   "source": [
    "https://github.com/zhengl0217/Perovskite-Electronic-Structure-Feature-Python"
   ]
  },
  {
   "cell_type": "markdown",
   "id": "12403447",
   "metadata": {},
   "source": [
    "https://github.com/JannickWeisshaupt/OpenDFT"
   ]
  },
  {
   "cell_type": "code",
   "execution_count": 4,
   "id": "595a37d7",
   "metadata": {},
   "outputs": [
    {
     "name": "stdout",
     "output_type": "stream",
     "text": [
      "V = 1000 Angstrom^3\n"
     ]
    }
   ],
   "source": [
    "from ase import Atoms, Atom\n",
    "from ase.io import write\n",
    "\n",
    "# define an Atoms object\n",
    "atoms = Atoms([Atom('C', [0., 0., 0.]),\n",
    "               Atom('O', [1.1, 0., 0.])],\n",
    "              cell=(10, 10, 10))\n",
    "\n",
    "print('V = {0:1.0f} Angstrom^3'.format(atoms.get_volume()))\n",
    "\n",
    "write('simple-cubic-cell.png', atoms, show_unit_cell=2)"
   ]
  },
  {
   "cell_type": "code",
   "execution_count": 6,
   "id": "eb035772",
   "metadata": {},
   "outputs": [
    {
     "name": "stdout",
     "output_type": "stream",
     "text": [
      "V = 716 Ang^3\n"
     ]
    }
   ],
   "source": [
    "b = 7.1\n",
    "atoms = Atoms([Atom('C', [0., 0., 0.]),\n",
    "               Atom('O', [1.1, 0., 0.])],\n",
    "              cell=[[b, b, 0.],\n",
    "                    [b, 0., b],\n",
    "                    [0., b, b]])\n",
    "\n",
    "print('V = {0:1.0f} Ang^3'.format(atoms.get_volume()))\n",
    "\n",
    "atoms.center()  # translate atoms to center of unit cell\n",
    "write('fcc-cell.png', atoms, show_unit_cell=2)"
   ]
  },
  {
   "cell_type": "code",
   "execution_count": 7,
   "id": "8a62bfe9",
   "metadata": {},
   "outputs": [
    {
     "name": "stdout",
     "output_type": "stream",
     "text": [
      "|a1| = 10.04 Ang\n",
      "|a2| = 10.04 Ang\n",
      "|a3| = 10.04 Ang\n"
     ]
    }
   ],
   "source": [
    "import numpy as np\n",
    "\n",
    "b = 7.1\n",
    "atoms = Atoms([Atom('C', [0., 0., 0.]),\n",
    "               Atom('O', [1.1, 0., 0.])],\n",
    "              cell=[[b, b, 0.],\n",
    "                    [b, 0., b],\n",
    "                    [0., b, b]])\n",
    "\n",
    "# get unit cell vectors and their lengths\n",
    "(a1, a2, a3) = atoms.get_cell()\n",
    "print('|a1| = {0:1.2f} Ang'.format(np.sum(a1**2)**0.5))\n",
    "print('|a2| = {0:1.2f} Ang'.format(np.linalg.norm(a2)))\n",
    "print('|a3| = {0:1.2f} Ang'.format(np.sum(a3**2)**0.5))"
   ]
  },
  {
   "cell_type": "code",
   "execution_count": 12,
   "id": "301fa25b",
   "metadata": {},
   "outputs": [
    {
     "name": "stdout",
     "output_type": "stream",
     "text": [
      "unit cell\n",
      "---------\n",
      "Cell([13.775328, 13.537479, 15.014576])\n"
     ]
    }
   ],
   "source": [
    "from ase.structure import molecule\n",
    "from ase.io import write\n",
    "\n",
    "atoms = molecule('CH3CN')\n",
    "\n",
    "atoms.center(vacuum=6)\n",
    "print('unit cell')\n",
    "print('---------')\n",
    "print(atoms.get_cell())\n",
    "\n",
    "write('ch3cn.png', atoms, show_unit_cell=2)"
   ]
  },
  {
   "cell_type": "code",
   "execution_count": 14,
   "id": "f15780db",
   "metadata": {},
   "outputs": [
    {
     "name": "stdout",
     "output_type": "stream",
     "text": [
      "unit cell\n",
      "---------\n",
      "Cell([13.775328, 13.537479, 15.014576])\n"
     ]
    }
   ],
   "source": [
    "from ase.structure import molecule\n",
    "from ase.io import write\n",
    "\n",
    "atoms = molecule('CH3CN')\n",
    "\n",
    "atoms.center(vacuum=6)\n",
    "print('unit cell')\n",
    "print('---------')\n",
    "print(atoms.get_cell())\n",
    "\n",
    "write('ch3cn-rotated.png', atoms,\n",
    "      show_unit_cell=2, rotation='45x,45y,0z')"
   ]
  },
  {
   "cell_type": "code",
   "execution_count": 15,
   "id": "aeeaeaf5",
   "metadata": {},
   "outputs": [
    {
     "name": "stdout",
     "output_type": "stream",
     "text": [
      "difference in positions after rotating\n",
      "atom    difference vector\n",
      "--------------------------------------\n",
      "0 [-0.01782051  0.01782219  0.0002443 ]\n",
      "1 [ 2.20136479e-03 -2.20157163e-03 -3.01777230e-05]\n",
      "2 [ 0.01835166 -0.01835339 -0.00025158]\n",
      "3 [-0.02277373  0.02287218  0.01436336]\n",
      "4 [-0.02314601  0.02301662 -0.01887695]\n",
      "5 [-0.02297922  0.02301662  0.0054581 ]\n"
     ]
    }
   ],
   "source": [
    "from ase.structure import molecule\n",
    "from ase.io import write\n",
    "from numpy import pi\n",
    "\n",
    "atoms = molecule('CH3CN')\n",
    "atoms.center(vacuum=6)\n",
    "p1 = atoms.get_positions()\n",
    "\n",
    "atoms.rotate('x', pi/4, center='COM', rotate_cell=False)\n",
    "atoms.rotate('y', pi/4, center='COM', rotate_cell=False)\n",
    "\n",
    "write('ch3cn-rotated-2.png', atoms, show_unit_cell=2)\n",
    "print('difference in positions after rotating')\n",
    "print('atom    difference vector')\n",
    "print('--------------------------------------')\n",
    "p2 = atoms.get_positions()\n",
    "\n",
    "diff = p2 - p1\n",
    "for i, d in enumerate(diff):\n",
    "    print('{0} {1}'.format(i, d))"
   ]
  },
  {
   "cell_type": "code",
   "execution_count": 16,
   "id": "afd41c48",
   "metadata": {},
   "outputs": [],
   "source": [
    "from ase.structure import molecule\n",
    "from ase.io import write\n",
    "\n",
    "atoms1 = molecule('NH3')\n",
    "\n",
    "atoms2 = molecule('O2')\n",
    "atoms2.translate([3, 0, 0])\n",
    "\n",
    "bothatoms = atoms1 + atoms2\n",
    "bothatoms.center(5)\n",
    "\n",
    "write('bothatoms.png', bothatoms, show_unit_cell=2, rotation='90x')"
   ]
  },
  {
   "cell_type": "code",
   "execution_count": 1,
   "id": "d3443fb8",
   "metadata": {},
   "outputs": [
    {
     "name": "stdout",
     "output_type": "stream",
     "text": [
      "Defaulting to user installation because normal site-packages is not writeable\n",
      "Collecting sisl\n",
      "  Downloading sisl-0.12.2-cp310-cp310-manylinux_2_17_x86_64.manylinux2014_x86_64.whl (17.5 MB)\n",
      "\u001b[2K     \u001b[38;2;114;156;31m━━━━━━━━━━━━━━━━━━━━━━━━━━━━━━━━━━━━━━━━\u001b[0m \u001b[32m17.5/17.5 MB\u001b[0m \u001b[31m3.0 MB/s\u001b[0m eta \u001b[36m0:00:00\u001b[0mm eta \u001b[36m0:00:01\u001b[0m[36m0:00:01\u001b[0m\n",
      "\u001b[?25hRequirement already satisfied: scipy>=0.18 in /usr/lib/python3/dist-packages (from sisl) (1.8.0)\n",
      "Requirement already satisfied: pyparsing>=1.5.7 in /usr/lib/python3/dist-packages (from sisl) (2.4.7)\n",
      "Collecting netCDF4\n",
      "  Downloading netCDF4-1.6.1-cp310-cp310-manylinux_2_17_x86_64.manylinux2014_x86_64.whl (5.1 MB)\n",
      "\u001b[2K     \u001b[38;2;114;156;31m━━━━━━━━━━━━━━━━━━━━━━━━━━━━━━━━━━━━━━━━\u001b[0m \u001b[32m5.1/5.1 MB\u001b[0m \u001b[31m2.6 MB/s\u001b[0m eta \u001b[36m0:00:00\u001b[0mm eta \u001b[36m0:00:01\u001b[0m[36m0:00:01\u001b[0m\n",
      "\u001b[?25hRequirement already satisfied: numpy>=1.13 in /usr/lib/python3/dist-packages (from sisl) (1.21.5)\n",
      "Collecting cftime\n",
      "  Downloading cftime-1.6.2-cp310-cp310-manylinux_2_17_x86_64.manylinux2014_x86_64.whl (1.2 MB)\n",
      "\u001b[2K     \u001b[38;2;114;156;31m━━━━━━━━━━━━━━━━━━━━━━━━━━━━━━━━━━━━━━━━\u001b[0m \u001b[32m1.2/1.2 MB\u001b[0m \u001b[31m4.7 MB/s\u001b[0m eta \u001b[36m0:00:00\u001b[0mm eta \u001b[36m0:00:01\u001b[0m[36m0:00:01\u001b[0m\n",
      "\u001b[?25hInstalling collected packages: cftime, netCDF4, sisl\n",
      "Successfully installed cftime-1.6.2 netCDF4-1.6.1 sisl-0.12.2\n",
      "\n",
      "\u001b[1m[\u001b[0m\u001b[34;49mnotice\u001b[0m\u001b[1;39;49m]\u001b[0m\u001b[39;49m A new release of pip available: \u001b[0m\u001b[31;49m22.1.2\u001b[0m\u001b[39;49m -> \u001b[0m\u001b[32;49m22.2.2\u001b[0m\n",
      "\u001b[1m[\u001b[0m\u001b[34;49mnotice\u001b[0m\u001b[1;39;49m]\u001b[0m\u001b[39;49m To update, run: \u001b[0m\u001b[32;49mpython3 -m pip install --upgrade pip\u001b[0m\n",
      "Note: you may need to restart the kernel to use updated packages.\n"
     ]
    }
   ],
   "source": [
    "pip install sisl"
   ]
  },
  {
   "cell_type": "code",
   "execution_count": 1,
   "id": "16d093f3",
   "metadata": {},
   "outputs": [
    {
     "name": "stderr",
     "output_type": "stream",
     "text": [
      "info:0: SislInfo: Please install tqdm (pip install tqdm) for better looking progress bars\n"
     ]
    },
    {
     "name": "stdout",
     "output_type": "stream",
     "text": [
      "[-9.93013661e-16  9.93013661e-16]\n"
     ]
    }
   ],
   "source": [
    "import sisl\n",
    "\n",
    "bond = 1.42\n",
    "# Construct the atom with the appropriate orbital range\n",
    "# Note the 0.01 which is for numerical accuracy.\n",
    "C = sisl.Atom(6, R = bond + 0.01)\n",
    "# Create graphene unit-cell\n",
    "gr = sisl.geom.graphene(bond, C)\n",
    "\n",
    "# Create the tight-binding Hamiltonian\n",
    "H = sisl.Hamiltonian(gr)\n",
    "R = [0.1 * bond, bond + 0.01]\n",
    "\n",
    "for ia in gr:\n",
    "    idx_a = gr.close(ia, R)\n",
    "    # On-site\n",
    "    H[ia, idx_a[0]] = 0.\n",
    "    # Nearest neighbour hopping\n",
    "    H[ia, idx_a[1]] = -2.7\n",
    "\n",
    "# Calculate eigenvalues at K-point\n",
    "print(H.eigh([2./3, 1./3, 0.]))"
   ]
  },
  {
   "cell_type": "code",
   "execution_count": null,
   "id": "b39175fb",
   "metadata": {},
   "outputs": [],
   "source": []
  }
 ],
 "metadata": {
  "kernelspec": {
   "display_name": "Python 3 (ipykernel)",
   "language": "python",
   "name": "python3"
  },
  "language_info": {
   "codemirror_mode": {
    "name": "ipython",
    "version": 3
   },
   "file_extension": ".py",
   "mimetype": "text/x-python",
   "name": "python",
   "nbconvert_exporter": "python",
   "pygments_lexer": "ipython3",
   "version": "3.10.6"
  }
 },
 "nbformat": 4,
 "nbformat_minor": 5
}
