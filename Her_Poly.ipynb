{
 "cells": [
  {
   "cell_type": "code",
   "execution_count": null,
   "metadata": {},
   "outputs": [],
   "source": [
    "import numpy as np\n",
    "import matplotlib.pyplot as plt\n",
    "\n",
    "# Orthogonal Hermite Polynomials using recursion relations\n",
    "def hermite_poly(n):\n",
    "    if n == 0:\n",
    "        return np.poly1d([1])\n",
    "    elif n == 1:\n",
    "        return np.poly1d([2, 0])\n",
    "    else:\n",
    "        H_n_minus_1 = hermite_poly(n - 1)\n",
    "        H_n_minus_2 = hermite_poly(n - 2)\n",
    "        return np.poly1d([2, 0]) * H_n_minus_1 - 2 * (n - 1) * H_n_minus_2\n",
    "\n",
    "# Generate the first few Hermite polynomials and plot them\n",
    "x = np.linspace(-5, 5, 100)\n",
    "hermite_polynomials = [hermite_poly(n) for n in range(5)]\n",
    "for n, H_n in enumerate(hermite_polynomials):\n",
    "    plt.plot(x, H_n(x), label=f'H_{n}(x)')\n",
    "\n",
    "plt.title('First Five Orthogonal Hermite Polynomials')\n",
    "plt.xlabel('x')\n",
    "plt.ylabel('H_n(x)')\n",
    "plt.legend()\n",
    "plt.grid(True)\n",
    "plt.show()"
   ]
  }
 ],
 "metadata": {
  "kernelspec": {
   "display_name": "Python 3",
   "language": "python",
   "name": "python3"
  },
  "language_info": {
   "codemirror_mode": {
    "name": "ipython",
    "version": 3
   },
   "file_extension": ".py",
   "mimetype": "text/x-python",
   "name": "python",
   "nbconvert_exporter": "python",
   "pygments_lexer": "ipython3",
   "version": "3.7.3"
  }
 },
 "nbformat": 4,
 "nbformat_minor": 2
}
