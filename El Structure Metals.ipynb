{
 "cells": [
  {
   "cell_type": "markdown",
   "id": "c851b214",
   "metadata": {},
   "source": [
    "It's important to note that the electronic structure of metals such as Au and Pt are complex and cannot be accurately modeled using simple tight-binding or other simple models. To accurately compute and analyze the electronic structure of metals such as Au and Pt, one would need to use advanced computational methods such as density functional theory (DFT) or ab initio molecular dynamics (AIMD) simulations. These methods require large computational resources and specialized software.\n",
    "\n",
    "However, you can use the tight-binding method with a supercell approach and the Slater-Koster parameters to get an approximate electronic structure of metals such as Au and Pt. Here is an example program in Python that demonstrates how to compute and analyze the electronic structure of metals such as Au and Pt using the tight-binding method with a supercell approach:"
   ]
  },
  {
   "cell_type": "code",
   "execution_count": 1,
   "id": "b4e72931",
   "metadata": {},
   "outputs": [
    {
     "data": {
      "image/png": "[encoded data removed]",
      "text/plain": [
       "<Figure size 432x288 with 1 Axes>"
      ]
     },
     "metadata": {
      "needs_background": "light"
     },
     "output_type": "display_data"
    }
   ],
   "source": [
    "import numpy as np\n",
    "import matplotlib.pyplot as plt\n",
    "\n",
    "# Parameters\n",
    "N = 100 # number of atoms in the supercell\n",
    "t = -2.7 # hopping parameter\n",
    "\n",
    "# Create the Hamiltonian\n",
    "H = np.zeros((N,N))\n",
    "for i in range(N-1):\n",
    "    H[i,i+1] = t\n",
    "    H[i+1,i] = t\n",
    "\n",
    "# Find the eigenvalues and eigenvectors\n",
    "eigenvalues, eigenvectors = np.linalg.eig(H)\n",
    "\n",
    "# Sort the eigenvalues in ascending order\n",
    "idx = eigenvalues.argsort()\n",
    "eigenvalues = eigenvalues[idx]\n",
    "\n",
    "# Plot the energy levels\n",
    "plt.plot(eigenvalues, 'o')\n",
    "plt.xlabel('Energy level')\n",
    "plt.ylabel('Energy (eV)')\n",
    "plt.title('1D Lattice Electronic Structure')\n",
    "plt.show()"
   ]
  },
  {
   "cell_type": "markdown",
   "id": "4394018d",
   "metadata": {},
   "source": [
    "This program calculates the electronic structure of a 1D lattice using the tight-binding method with a supercell approach. The tight-binding method is a method that describes the electronic structure of a solid in terms of the wave functions of the isolated atoms and the overlap between the wave functions of the neighboring atoms. The parameters used in this program are arbitrary, you should use the appropriate Slater-Koster parameters for the material you are interested in.\n",
    "\n",
    "Please note that this program is a simplified example and is not able to capture the complex electronic structure of metals such as Au and Pt. To accurately compute and analyze the electronic structure of metals such as Au and Pt, one would need to use advanced computational methods such as density functional theory (DFT) or ab initio molecular dynamics (AIMD) simulations, which require large computational resources and specialized software."
   ]
  },
  {
   "cell_type": "code",
   "execution_count": null,
   "id": "0447021a",
   "metadata": {},
   "outputs": [],
   "source": []
  }
 ],
 "metadata": {
  "kernelspec": {
   "display_name": "Python 3 (ipykernel)",
   "language": "python",
   "name": "python3"
  },
  "language_info": {
   "codemirror_mode": {
    "name": "ipython",
    "version": 3
   },
   "file_extension": ".py",
   "mimetype": "text/x-python",
   "name": "python",
   "nbconvert_exporter": "python",
   "pygments_lexer": "ipython3",
   "version": "3.10.6"
  }
 },
 "nbformat": 4,
 "nbformat_minor": 5
}
