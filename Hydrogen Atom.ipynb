{
 "cells": [
  {
   "cell_type": "markdown",
   "id": "f883d673",
   "metadata": {},
   "source": [
    "First principle methods are a set of computational techniques used to calculate the properties of a system based on the laws of quantum mechanics and quantum field theory. One such method is density functional theory (DFT), which is widely used to study the electronic structure of molecules, including the hydrogen molecule.\n",
    "\n",
    "Here's a program in Python that uses DFT to find the equilibrium bond length and ground state energy of a hydrogen molecule:"
   ]
  },
  {
   "cell_type": "code",
   "execution_count": 4,
   "id": "55054a13",
   "metadata": {},
   "outputs": [
    {
     "name": "stdout",
     "output_type": "stream",
     "text": [
      "converged SCF energy = -0.941480654707799\n",
      "converged SCF energy = -1.11439653848583\n",
      "converged SCF energy = -1.1143965366131\n",
      "converged SCF energy = -1.11439654035855\n",
      "converged SCF energy = -1.08925659921979\n",
      "converged SCF energy = -1.0892566027619\n",
      "converged SCF energy = -1.08925659567767\n",
      "converged SCF energy = -1.11749496896309\n",
      "converged SCF energy = -1.11749496906203\n",
      "converged SCF energy = -1.11749496886415\n",
      "converged SCF energy = -1.11750563766468\n",
      "converged SCF energy = -1.11750563767966\n",
      "converged SCF energy = -1.1175056376497\n",
      "converged SCF energy = -1.1175058850916\n",
      "converged SCF energy = -1.11750588509146\n",
      "converged SCF energy = -1.11750588509175\n",
      "converged SCF energy = -1.11750588511613\n",
      "converged SCF energy = -1.11750588511613\n",
      "converged SCF energy = -1.11750588511613\n",
      "Equilibrium bond length:  0.7122298587885862\n",
      "Ground state energy:  -1.1175058851161324\n"
     ]
    }
   ],
   "source": [
    "import numpy as np\n",
    "from scipy.optimize import minimize\n",
    "from pyscf import gto, scf\n",
    "\n",
    "# Define the molecule\n",
    "mol = gto.M(atom='H 0 0 0; H 0 0 1.4', basis='sto-3g', symmetry=True)\n",
    "\n",
    "# Perform the SCF calculation\n",
    "scf_result = scf.RHF(mol)\n",
    "scf_result.conv_tol = 1e-12\n",
    "scf_result.kernel()\n",
    "\n",
    "# Get the ground state energy\n",
    "E_gs = scf_result.e_tot\n",
    "\n",
    "# Define a function to minimize\n",
    "def fun(x):\n",
    "    mol.build(atom='H 0 0 {}; H 0 0 {}'.format(x[0], x[1]), symmetry=True)\n",
    "    scf_result = scf.RHF(mol)\n",
    "    scf_result.conv_tol = 1e-12\n",
    "    scf_result.kernel()\n",
    "    return scf_result.e_tot\n",
    "\n",
    "# Minimize the energy with respect to bond length\n",
    "x0 = [0.74, 1.4]\n",
    "res = minimize(fun, x0)\n",
    "\n",
    "# Get the equilibrium bond length and energy\n",
    "r_eq = res.x[1] - res.x[0]\n",
    "E_eq = res.fun\n",
    "\n",
    "print(\"Equilibrium bond length: \", r_eq)\n",
    "print(\"Ground state energy: \", E_eq)"
   ]
  },
  {
   "cell_type": "markdown",
   "id": "082f5909",
   "metadata": {},
   "source": [
    "The above code uses the PySCF library, which is a Python implementation of DFT. It defines the Hydrogen molecule with two atoms separated by a distance of 1.4 angstroms and uses the sto-3g basis set. It then performs the self-consistent field (SCF) calculation and gets the ground state energy.\n",
    "It then defines a function to minimize the energy with respect to the bond length and uses the minimize function from scipy library to find the minimum energy.\n",
    "The equilibrium bond length and energy are then obtained from the results of the minimization.\n",
    "\n",
    "It is important to notice that the above code is just a simple example and the results may not be accurate, depending on the basis set, initial guess, and other parameters used. Also, you may want to use more advanced methods such as hybrid functional or the use of a larger basis set to get more accurate results."
   ]
  },
  {
   "cell_type": "code",
   "execution_count": null,
   "id": "428700f9",
   "metadata": {},
   "outputs": [],
   "source": []
  }
 ],
 "metadata": {
  "kernelspec": {
   "display_name": "Python 3 (ipykernel)",
   "language": "python",
   "name": "python3"
  },
  "language_info": {
   "codemirror_mode": {
    "name": "ipython",
    "version": 3
   },
   "file_extension": ".py",
   "mimetype": "text/x-python",
   "name": "python",
   "nbconvert_exporter": "python",
   "pygments_lexer": "ipython3",
   "version": "3.10.6"
  }
 },
 "nbformat": 4,
 "nbformat_minor": 5
}
