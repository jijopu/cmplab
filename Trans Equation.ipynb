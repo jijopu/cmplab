{
 "cells": [
  {
   "cell_type": "markdown",
   "id": "efec16ed",
   "metadata": {},
   "source": [
    "## Bisection Method"
   ]
  },
  {
   "cell_type": "markdown",
   "id": "ffc75af7",
   "metadata": {},
   "source": [
    "Given a function f(x) on floating number x and two numbers ‘a’ and ‘b’ such that f(a)*f(b) < 0 and f(x) is continuous in [a, b]. Here f(x) represents algebraic or transcendental equation. Find root of function in interval [a, b] (Or find a value of x such that f(x) is 0). "
   ]
  },
  {
   "cell_type": "markdown",
   "id": "4662d03e",
   "metadata": {},
   "source": [
    "### What are Algebraic and Transcendental functions? \n",
    "Algebraic function are the one which can be represented in the form of polynomials like $f(x) = a_1x^3 + a_2x^2 + ….. + e$ where $a_1$, $a_2$, … are constants and $x$ is a variable. \n",
    "Transcendental function are non algebraic functions, for example $f(x) = sin(x)*x – 3$ or $f(x) = e^x + x^2$ or $f(x) = ln(x) + x ….$ "
   ]
  },
  {
   "cell_type": "markdown",
   "id": "487b9c99",
   "metadata": {},
   "source": [
    "### What is Bisection Method? \n",
    "The method is also called the interval halving method, the binary search method or the dichotomy method. This method is used to find root of an equation in a given interval that is value of ‘x’ for which f(x) = 0 . \n",
    "The method is based on The Intermediate Value Theorem which states that if f(x) is a continuous function and there are two real numbers a and b such that f(a)*f(b) 0 and f(b) < 0), then it is guaranteed that it has at least one root between them.\n",
    "\n",
    "### Assumptions: \n",
    " \n",
    "\n",
    "f(x) is a continuous function in interval [a, b]\n",
    "f(a) * f(b) < 0\n",
    "Steps: \n",
    " \n",
    "\n",
    "### Find middle point c= (a + b)/2 .\n",
    "If f(c) == 0, then c is the root of the solution.\n",
    "Else f(c) != 0\n",
    "If value f(a)*f(c) < 0 then root lies between a and c. So we recur for a and c\n",
    "Else If f(b)*f(c) < 0 then root lies between b and c. So we recur b and c.\n",
    "Else given function doesn’t follow one of assumptions.\n",
    "Since root may be a floating point number, we repeat above steps while difference between a and b is greater  than and equal to a value ? (A very small value). "
   ]
  },
  {
   "cell_type": "code",
   "execution_count": 1,
   "id": "087e8f42",
   "metadata": {},
   "outputs": [
    {
     "name": "stdout",
     "output_type": "stream",
     "text": [
      "The value of root is :  -1.0025\n"
     ]
    }
   ],
   "source": [
    "# Python program for implementation\n",
    "# of Bisection Method for\n",
    "# solving equations\n",
    " \n",
    "  \n",
    "# An example function whose\n",
    "# solution is determined using\n",
    "# Bisection Method.\n",
    "# The function is x^3 - x^2  + 2\n",
    "def func(x):\n",
    "    return x*x*x - x*x + 2\n",
    "  \n",
    "# Prints root of func(x)\n",
    "# with error of EPSILON\n",
    "def bisection(a,b):\n",
    " \n",
    "    if (func(a) * func(b) >= 0):\n",
    "        print(\"You have not assumed right a and b\\n\")\n",
    "        return\n",
    "  \n",
    "    c = a\n",
    "    while ((b-a) >= 0.01):\n",
    " \n",
    "        # Find middle point\n",
    "        c = (a+b)/2\n",
    "  \n",
    "        # Check if middle point is root\n",
    "        if (func(c) == 0.0):\n",
    "            break\n",
    "  \n",
    "        # Decide the side to repeat the steps\n",
    "        if (func(c)*func(a) < 0):\n",
    "            b = c\n",
    "        else:\n",
    "            a = c\n",
    "             \n",
    "    print(\"The value of root is : \",\"%.4f\"%c)\n",
    "     \n",
    "# Driver code\n",
    "# Initial values assumed\n",
    "a =-200\n",
    "b = 300\n",
    "bisection(a, b)"
   ]
  },
  {
   "cell_type": "markdown",
   "id": "2376f50d",
   "metadata": {},
   "source": [
    "# Newton's Method"
   ]
  },
  {
   "cell_type": "markdown",
   "id": "34ec8542",
   "metadata": {},
   "source": [
    "Comparison with above two methods: \n",
    " \n",
    "In previous methods, we were given an interval. Here we are required an initial guess value of root.\n",
    "The previous two methods are guaranteed to converge, Newton Raphson may not converge in some cases.\n",
    "Newton Raphson method requires derivative. Some functions may be difficult to \n",
    "impossible to differentiate.\n",
    "For many problems, Newton Raphson method converges faster than the above two methods.\n",
    "Also, it can identify repeated roots, since it does not look for changes in the sign of $f(x)$ explicitly."
   ]
  },
  {
   "cell_type": "markdown",
   "id": "4dac3320",
   "metadata": {},
   "source": [
    "### Algorithm: \n",
    "Input: initial x, func(x), derivFunc(x) \n",
    "Output: Root of Func() \n",
    " \n",
    "\n",
    "Compute values of func(x) and derivFunc(x) for given initial x\n",
    "Compute h: h = func(x) / derivFunc(x)\n",
    "While h is greater than allowed error ε \n",
    "h = func(x) / derivFunc(x)\n",
    "x = x – h"
   ]
  },
  {
   "cell_type": "markdown",
   "id": "1804a2aa",
   "metadata": {},
   "source": [
    "### Algorithm: "
   ]
  },
  {
   "cell_type": "markdown",
   "id": "ece2d5ab",
   "metadata": {},
   "source": [
    "Input: initial x, func(x), derivFunc(x) "
   ]
  },
  {
   "cell_type": "markdown",
   "id": "4287a5ca",
   "metadata": {},
   "source": [
    "Output: Root of Func() "
   ]
  },
  {
   "cell_type": "markdown",
   "id": "a869ad08",
   "metadata": {},
   "source": [
    "1. Compute values of func(x) and derivFunc(x) for given initial x"
   ]
  },
  {
   "cell_type": "markdown",
   "id": "1ca55934",
   "metadata": {},
   "source": [
    "2. Compute h: h = func(x) / derivFunc(x)\n",
    "3. While h is greater than allowed error ε \n",
    "   1. h = func(x) / derivFunc(x)\n",
    "   2. x = x – h"
   ]
  },
  {
   "cell_type": "code",
   "execution_count": 4,
   "id": "542c45c3",
   "metadata": {},
   "outputs": [
    {
     "name": "stdout",
     "output_type": "stream",
     "text": [
      "The value of the root is :  -1.0000\n"
     ]
    }
   ],
   "source": [
    "# Python3 code for implementation of Newton\n",
    "# Raphson Method for solving equations\n",
    " \n",
    "# An example function whose solution\n",
    "# is determined using Bisection Method.\n",
    "# The function is x^3 - x^2 + 2\n",
    "def func( x ):\n",
    "    return x * x * x - x * x + 2\n",
    " \n",
    "# Derivative of the above function\n",
    "# which is 3*x^x - 2*x\n",
    "def derivFunc( x ):\n",
    "    return 3 * x * x - 2 * x\n",
    " \n",
    "# Function to find the root\n",
    "def newtonRaphson( x ):\n",
    "    h = func(x) / derivFunc(x)\n",
    "    while abs(h) >= 0.0001:\n",
    "        h = func(x)/derivFunc(x)\n",
    "         \n",
    "        # x(i+1) = x(i) - f(x) / f'(x)\n",
    "        x = x - h\n",
    "     \n",
    "    print(\"The value of the root is : \",\n",
    "                             \"%.4f\"% x)\n",
    " \n",
    "# Driver program to test above\n",
    "x0 = -20 # Initial values assumed\n",
    "newtonRaphson(x0)\n",
    " \n",
    "# This code is contributed by \"Sharad_Bhardwaj\""
   ]
  },
  {
   "cell_type": "code",
   "execution_count": null,
   "id": "e61b0a44",
   "metadata": {},
   "outputs": [],
   "source": []
  }
 ],
 "metadata": {
  "kernelspec": {
   "display_name": "Python 3 (ipykernel)",
   "language": "python",
   "name": "python3"
  },
  "language_info": {
   "codemirror_mode": {
    "name": "ipython",
    "version": 3
   },
   "file_extension": ".py",
   "mimetype": "text/x-python",
   "name": "python",
   "nbconvert_exporter": "python",
   "pygments_lexer": "ipython3",
   "version": "3.10.6"
  }
 },
 "nbformat": 4,
 "nbformat_minor": 5
}
