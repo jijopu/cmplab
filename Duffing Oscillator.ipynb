{
 "cells": [
  {
   "cell_type": "markdown",
   "id": "fe7826d6",
   "metadata": {},
   "source": [
    "# Duffing Oscillator - IVP"
   ]
  },
  {
   "cell_type": "markdown",
   "id": "19fb6bf7",
   "metadata": {},
   "source": [
    "$\\LARGE{\\kappa \\ddot{x} +\\delta {\\dot{x}} +\\alpha x+\\beta x^{3}=\\gamma \\cos(\\omega t)}$"
   ]
  },
  {
   "cell_type": "markdown",
   "id": "2d005c27",
   "metadata": {},
   "source": [
    "$\\large{V(x)=\\frac{1}{4}x^4−\\frac{1}{2}x^2}$"
   ]
  },
  {
   "cell_type": "code",
   "execution_count": 6,
   "id": "fe0c1d02",
   "metadata": {},
   "outputs": [
    {
     "data": {
      "text/plain": [
       "Text(0, 0.5, '$V(x)$')"
      ]
     },
     "execution_count": 6,
     "metadata": {},
     "output_type": "execute_result"
    },
    {
     "data": {
      "image/png": "[encoded data removed]",
      "text/plain": [
       "<Figure size 432x288 with 1 Axes>"
      ]
     },
     "metadata": {
      "needs_background": "light"
     },
     "output_type": "display_data"
    }
   ],
   "source": [
    "import numpy as np\n",
    "from scipy.integrate import odeint, quad\n",
    "from scipy.optimize import brentq\n",
    "import matplotlib.pyplot as plt\n",
    "from matplotlib import animation, rc\n",
    "import seaborn as sbs\n",
    "rc('font', **{'family': 'serif', 'serif': ['Computer Modern'], 'size': 20})\n",
    "rc('text', usetex=True)\n",
    "rc('animation', html='html5')\n",
    "\n",
    "# The potential and its first derivative, as callables.\n",
    "V = lambda x: 0.5 * x**2 * (0.5 * x**2 - 1)\n",
    "dVdx = lambda x: x**3 - x\n",
    "\n",
    "# The potential energy function on a grid of x-points.\n",
    "xgrid = np.linspace(-1.5, 1.5, 100)\n",
    "Vgrid = V(xgrid)\n",
    "\n",
    "plt.plot(xgrid, Vgrid)\n",
    "plt.xlabel('$x$')\n",
    "plt.ylabel('$V(x)$')"
   ]
  },
  {
   "cell_type": "code",
   "execution_count": 7,
   "id": "dd6c2d83",
   "metadata": {},
   "outputs": [],
   "source": [
    "def deriv(X, t, gamma, delta, omega):\n",
    "    \"\"\"Return the derivatives dx/dt and d2x/dt2.\"\"\"\n",
    "\n",
    "    x, xdot = X\n",
    "    xdotdot = -dVdx(x) -delta * xdot + gamma * np.cos(omega*t)\n",
    "    return xdot, xdotdot\n",
    "\n",
    "def solve_duffing(tmax, dt_per_period, t_trans, x0, v0, gamma, delta, omega):\n",
    "    # Time point spacings and the time grid\n",
    "\n",
    "    period = 2*np.pi/omega\n",
    "    dt = 2*np.pi/omega / dt_per_period\n",
    "    step = int(period / dt)\n",
    "    t = np.arange(0, tmax, dt)\n",
    "    # Initial conditions: x, xdot\n",
    "    X0 = [x0, v0]\n",
    "    X = odeint(deriv, X0, t, args=(gamma, delta, omega))\n",
    "    idx = int(t_trans / dt)\n",
    "    return t[idx:], X[idx:], dt, step"
   ]
  },
  {
   "cell_type": "code",
   "execution_count": 8,
   "id": "8956e68e",
   "metadata": {},
   "outputs": [],
   "source": [
    "# Set up the motion for a oscillator with initial position\n",
    "# x0 and initially at rest.\n",
    "x0, v0 = 0, 0\n",
    "tmax, t_trans = 18000, 300\n",
    "omega = 1.4\n",
    "gamma, delta = 0.39, 0.1\n",
    "dt_per_period = 100\n",
    "\n",
    "# Solve the equation of motion.\n",
    "t, X, dt, pstep = solve_duffing(tmax, dt_per_period, t_trans, x0, v0, gamma, delta, omega)\n",
    "x, xdot = X.T"
   ]
  },
  {
   "cell_type": "code",
   "execution_count": null,
   "id": "e35978ab",
   "metadata": {},
   "outputs": [],
   "source": []
  }
 ],
 "metadata": {
  "kernelspec": {
   "display_name": "Python 3 (ipykernel)",
   "language": "python",
   "name": "python3"
  },
  "language_info": {
   "codemirror_mode": {
    "name": "ipython",
    "version": 3
   },
   "file_extension": ".py",
   "mimetype": "text/x-python",
   "name": "python",
   "nbconvert_exporter": "python",
   "pygments_lexer": "ipython3",
   "version": "3.10.4"
  }
 },
 "nbformat": 4,
 "nbformat_minor": 5
}
