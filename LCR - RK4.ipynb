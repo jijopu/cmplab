{
 "cells": [
  {
   "cell_type": "markdown",
   "id": "17ab453a",
   "metadata": {},
   "source": [
    "## Solution of LCR circuit - RK4 Method"
   ]
  },
  {
   "cell_type": "markdown",
   "id": "ba47b073",
   "metadata": {},
   "source": [
    "https://vcfw.org/pdf/Department/Physics/Python-code-ODE.pdf"
   ]
  },
  {
   "cell_type": "code",
   "execution_count": 1,
   "id": "fe6aee45",
   "metadata": {},
   "outputs": [],
   "source": [
    "import matplotlib.pyplot as plt\n",
    "import numpy as np"
   ]
  },
  {
   "cell_type": "code",
   "execution_count": 2,
   "id": "2bd7c5d8",
   "metadata": {},
   "outputs": [],
   "source": [
    "# initial value of t, i\n",
    "###########################################\n",
    "###### Case-1, Overdamped damped case R>2*sqrt(L/C)\n",
    "e=1.0\n",
    "l=2.0\n",
    "c=0.5\n",
    "r=4.5"
   ]
  },
  {
   "cell_type": "code",
   "execution_count": 7,
   "id": "1bb90d8a",
   "metadata": {},
   "outputs": [],
   "source": [
    "###### Case-2, Critical damped case R=2*sqrt(L/C)\n",
    "e=1.0\n",
    "l=2.0\n",
    "c=0.5\n",
    "r=4"
   ]
  },
  {
   "cell_type": "code",
   "execution_count": 4,
   "id": "c224d5f3",
   "metadata": {},
   "outputs": [],
   "source": [
    "###### Case-3, Underdamped case R<2*sqrt(L/C)\n",
    "e=1.0\n",
    "l=1.0\n",
    "c=0.5\n",
    "r=0.5"
   ]
  },
  {
   "cell_type": "code",
   "execution_count": 8,
   "id": "1932b061",
   "metadata": {},
   "outputs": [],
   "source": [
    "t=0.0\n",
    "i=0.0\n",
    "q=0.0\n",
    "tf=30.0 # final value of t\n",
    "dt=0.01 # step length\n",
    "tt=[]\n",
    "ii=[]\n",
    "qq=[]"
   ]
  },
  {
   "cell_type": "code",
   "execution_count": 4,
   "id": "31089134",
   "metadata": {},
   "outputs": [],
   "source": [
    "# defining function\n",
    "def f1(q,i,t):\n",
    "    return i # dq/dt=i ..> f1(q,i,t)\n",
    "def f2(q,i,t):\n",
    "    return (e-i*r-q/c)/l # di/dt=(e-ri-q/c)/l ..> f2(q,i,t)\n",
    "while t<=tf:\n",
    "    tt.append(t)\n",
    "    qq.append(q)\n",
    "    ii.append(i)\n",
    "    p1=dt*f1(q,i,t) # dq at initial point\n",
    "    p2=dt*f2(q,i,t) # di at initial point\n",
    "    q1=dt*f1(q+0.5*p1,i+0.5*p2,t+0.5*dt)\n",
    "    q2=dt*f2(q+0.5*p1,i+0.5*p2,t+0.5*dt)\n",
    "    r1=dt*f1(q+0.5*q1,i+0.5*q2,t+0.5*dt)\n",
    "    r2=dt*f2(q+0.5*q1,i+0.5*q2,t+0.5*dt)\n",
    "    s1=dt*f1(q+r1,i+r2,t+dt)\n",
    "    s2=dt*f2(q+r1,i+r2,t+dt)\n",
    "    q+=(p1+2*q1+2*r1+s1)/6.0\n",
    "    i+=(p2+2*q2+2*r2+s2)/6.0\n",
    "    t+=dt"
   ]
  },
  {
   "cell_type": "code",
   "execution_count": 6,
   "id": "d6a2276d",
   "metadata": {},
   "outputs": [
    {
     "data": {
      "image/png": "[encoded data removed]",
      "text/plain": [
       "<Figure size 432x288 with 2 Axes>"
      ]
     },
     "metadata": {
      "needs_background": "light"
     },
     "output_type": "display_data"
    }
   ],
   "source": [
    "plt.subplot(2,1,1)\n",
    "plt.plot(tt,ii,label=\"Current\")\n",
    "plt.xlabel(\"time\")\n",
    "plt.ylabel(\"Current\")\n",
    "plt.legend(loc='best')\n",
    "plt.subplot(2,1,2)\n",
    "plt.plot(tt,qq,label=\"Charge\")\n",
    "plt.xlabel(\"time\")\n",
    "plt.ylabel(\"Charge\")\n",
    "plt.legend(loc='best')\n",
    "plt.suptitle(\"Solution of LCR circuit by RK4 method: Overdamped\")\n",
    "plt.savefig(\"Overdamped.png\")\n",
    "#plt.suptitle(\"Solution of LCR circuit by RK4 method: Critical damped case\")\n",
    "#plt.savefig(\"Critdamped.png\")\n",
    "#plt.suptitle(\"Solution of LCR circuit by RK4 method: Underdamped\")\n",
    "#plt.savefig(\"Underdamped.png\")"
   ]
  },
  {
   "cell_type": "code",
   "execution_count": null,
   "id": "182e6b7b",
   "metadata": {},
   "outputs": [],
   "source": []
  }
 ],
 "metadata": {
  "kernelspec": {
   "display_name": "Python 3 (ipykernel)",
   "language": "python",
   "name": "python3"
  },
  "language_info": {
   "codemirror_mode": {
    "name": "ipython",
    "version": 3
   },
   "file_extension": ".py",
   "mimetype": "text/x-python",
   "name": "python",
   "nbconvert_exporter": "python",
   "pygments_lexer": "ipython3",
   "version": "3.10.6"
  }
 },
 "nbformat": 4,
 "nbformat_minor": 5
}
