{
 "cells": [
  {
   "cell_type": "markdown",
   "id": "f2e465e4",
   "metadata": {},
   "source": [
    "## Lotka Volterra equations"
   ]
  },
  {
   "cell_type": "markdown",
   "id": "742e46b4",
   "metadata": {},
   "source": [
    "https://github.com/nayantelrandhe/Eulers-Method-Problems/blob/5dcb2c4a97898436d5df5295d1b14183ca49f840/Lotka-Volterra%7CPredator-Prey.ipynb"
   ]
  },
  {
   "cell_type": "code",
   "execution_count": 1,
   "id": "04f5e988",
   "metadata": {},
   "outputs": [],
   "source": [
    "import numpy as np\n",
    "import matplotlib.pyplot as plt\n",
    "import time"
   ]
  },
  {
   "cell_type": "code",
   "execution_count": null,
   "id": "f5987a48",
   "metadata": {},
   "outputs": [],
   "source": [
    "%%time\n",
    "#constants\n",
    "r=2\n",
    "m=3\n",
    "a=4\n",
    "b=5\n",
    "\n",
    "t=0         #initial value of time\n",
    "s=0.0001    #step size for t\n",
    "E=22        #final value of t to plot the solution upto\n",
    "\n",
    "#initial values p and h\n",
    "p=10\n",
    "h=12\n",
    "\n",
    "\n",
    "\n",
    "def Pdot(p,h):\n",
    "    return (-m*p)+(b*h*p)              #dP/dt\n",
    "\n",
    "\n",
    "def Hdot(p,h):\n",
    "    return (h*r)-(a*h*p)               #dH/dt\n",
    "\n",
    "P=[p]\n",
    "H=[h]\n",
    "T=[t]\n",
    "\n",
    "while t<=E:\n",
    "    pi=p\n",
    "    p=p+(s*Pdot(p,h))\n",
    "    P=P+[p]\n",
    "    h=h+(s*Hdot(pi,h))\n",
    "    H=H+[h]\n",
    "    t=t+s\n",
    "    T=T+[t]"
   ]
  },
  {
   "cell_type": "code",
   "execution_count": null,
   "id": "daa6a5ec",
   "metadata": {},
   "outputs": [],
   "source": [
    "# P vs t and H vs t plot\n",
    "\n",
    "plt.figure(figsize=(20,5), dpi=100)\n",
    "plt.title(\"Lotka Volterra\")\n",
    "plt.xlabel(\"Time t\")\n",
    "plt.ylabel(\"Count\")\n",
    "plt.plot(T,P,'r',label='Predator',linewidth=0.8)\n",
    "plt.plot(T,H,'b',label='Prey',linewidth=0.8)\n",
    "plt.grid()\n",
    "plt.legend(ncol=2)\n",
    "plt.show()\n",
    "\n",
    "print('\\nP(t)=',p,', H(t)=',h,', t=',t)"
   ]
  }
 ],
 "metadata": {
  "kernelspec": {
   "display_name": "Python 3 (ipykernel)",
   "language": "python",
   "name": "python3"
  },
  "language_info": {
   "codemirror_mode": {
    "name": "ipython",
    "version": 3
   },
   "file_extension": ".py",
   "mimetype": "text/x-python",
   "name": "python",
   "nbconvert_exporter": "python",
   "pygments_lexer": "ipython3",
   "version": "3.10.6"
  }
 },
 "nbformat": 4,
 "nbformat_minor": 5
}
