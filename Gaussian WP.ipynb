{
 "cells": [
  {
   "cell_type": "code",
   "execution_count": 1,
   "id": "2c39e0d3",
   "metadata": {},
   "outputs": [
    {
     "data": {
      "image/png": "[encoded data removed]",
      "text/plain": [
       "<Figure size 432x288 with 1 Axes>"
      ]
     },
     "metadata": {
      "needs_background": "light"
     },
     "output_type": "display_data"
    }
   ],
   "source": [
    "import numpy as np\n",
    "import matplotlib.pyplot as plt\n",
    "\n",
    "# Parameters\n",
    "L = 1.0   # width of the well (m)\n",
    "x0 = 0.5  # center of the wave packet (m)\n",
    "sigma = 0.1  # width of the wave packet (m)\n",
    "hbar = 1.0545718e-34  # reduced Planck's constant (J*s)\n",
    "m = 1.0  # mass of the particle (kg)\n",
    "\n",
    "# Time step and simulation time\n",
    "dt = 0.01\n",
    "t_max = 10.0\n",
    "\n",
    "# Discretize the position space\n",
    "N = 100\n",
    "x = np.linspace(0, L, N)\n",
    "dx = x[1] - x[0]\n",
    "\n",
    "# Initialize the wave function\n",
    "psi = np.exp(-(x-x0)**2/(2*sigma**2))\n",
    "psi /= np.sqrt(np.sum(np.abs(psi)**2)*dx)\n",
    "\n",
    "# Create arrays to store the wave function data\n",
    "psi_real = [np.real(psi)]\n",
    "psi_imag = [np.imag(psi)]\n",
    "t = [0.0]\n",
    "\n",
    "# Time integration using the Crank-Nicolson method\n",
    "while t[-1] < t_max:\n",
    "    psi_real.append(psi_real[-1] + (-1j*hbar/(2*m*dx**2) * (np.roll(psi_imag[-1], -1) - 2*psi_imag[-1] + np.roll(psi_imag[-1], 1)))*dt)\n",
    "    psi_imag.append(psi_imag[-1] + (1j*hbar/(2*m*dx**2) * (np.roll(psi_real[-1], -1) - 2*psi_real[-1] + np.roll(psi_real[-1], 1)))*dt)\n",
    "    t.append(t[-1] + dt)\n",
    "\n",
    "# Plot the time evolution of the wave function\n",
    "for i in range(0, len(t), 10):\n",
    "    plt.plot(x, np.abs(psi_real[i]+1j*psi_imag[i])**2)\n",
    "plt.xlabel('Position (m)')\n",
    "plt.ylabel('Probability density')\n",
    "plt.show()"
   ]
  },
  {
   "cell_type": "code",
   "execution_count": null,
   "id": "48a31c85",
   "metadata": {},
   "outputs": [],
   "source": []
  }
 ],
 "metadata": {
  "kernelspec": {
   "display_name": "Python 3 (ipykernel)",
   "language": "python",
   "name": "python3"
  },
  "language_info": {
   "codemirror_mode": {
    "name": "ipython",
    "version": 3
   },
   "file_extension": ".py",
   "mimetype": "text/x-python",
   "name": "python",
   "nbconvert_exporter": "python",
   "pygments_lexer": "ipython3",
   "version": "3.10.6"
  }
 },
 "nbformat": 4,
 "nbformat_minor": 5
}
