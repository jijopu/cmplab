{
 "cells": [
  {
   "cell_type": "markdown",
   "id": "08aad668",
   "metadata": {},
   "source": [
    "This program calculates the electronic structure of a 1D lattice using the tight-binding method. The tight-binding method is a method that describes the electronic structure of a solid in terms of the wave functions of the isolated atoms and the overlap between the wave functions of the neighboring atoms.\n",
    "\n",
    "The program defines the lattice constant a, the hopping parameter t and the number of lattice sites N. Then it creates the Hamiltonian matrix by adding the hopping term between the neighboring sites using a for loop. Then it finds the eigenvalues and eigenvectors of the Hamiltonian matrix using the numpy method np.linalg.eig(H). It then sorts the eigenvalues in ascending order and plots the energy levels as a function of the energy level number.\n",
    "\n",
    "This program is a simple example for the 1D lattice electronic structure, the values of the parameters a, t and N should be adjusted according to the problem you are trying to solve. Also, this program considers a non-interacting case and the interaction effect can be added by adding interaction term to the Hamiltonian matrix."
   ]
  },
  {
   "cell_type": "code",
   "execution_count": 3,
   "id": "beb06f68",
   "metadata": {},
   "outputs": [
    {
     "data": {
      "image/png": "[encoded data removed]",
      "text/plain": [
       "<Figure size 432x288 with 1 Axes>"
      ]
     },
     "metadata": {
      "needs_background": "light"
     },
     "output_type": "display_data"
    }
   ],
   "source": [
    "import numpy as np\n",
    "import matplotlib.pyplot as plt\n",
    "\n",
    "# Function to generate the nth Legendre polynomial using recursion relations\n",
    "def Legendre_polynomial(n, x):\n",
    "    if n == 0:\n",
    "        return 1\n",
    "    elif n == 1:\n",
    "        return x\n",
    "    else:\n",
    "        return ((2*n-1)*x*Legendre_polynomial(n-1, x) - (n-1)*Legendre_polynomial(n-2, x))/n\n",
    "import numpy as np\n",
    "import matplotlib.pyplot as plt\n",
    "\n",
    "# Parameters\n",
    "a = 1.0 # lattice constant\n",
    "t = 1.0 # hopping parameter\n",
    "N = 100 # number of lattice sites\n",
    "\n",
    "# Create the Hamiltonian\n",
    "H = np.zeros((N,N))\n",
    "for i in range(N-1):\n",
    "    H[i,i+1] = -t\n",
    "    H[i+1,i] = -t\n",
    "\n",
    "# Find the eigenvalues and eigenvectors\n",
    "eigenvalues, eigenvectors = np.linalg.eig(H)\n",
    "\n",
    "# Sort the eigenvalues in ascending order\n",
    "idx = eigenvalues.argsort()\n",
    "eigenvalues = eigenvalues[idx]\n",
    "\n",
    "# Plot the energy levels\n",
    "plt.plot(eigenvalues, 'o')\n",
    "plt.xlabel('Energy level')\n",
    "plt.ylabel('Energy (eV)')\n",
    "plt.title('1D Lattice Electronic Structure')\n",
    "plt.show()"
   ]
  },
  {
   "cell_type": "code",
   "execution_count": null,
   "id": "f81b2671",
   "metadata": {},
   "outputs": [],
   "source": []
  }
 ],
 "metadata": {
  "kernelspec": {
   "display_name": "Python 3 (ipykernel)",
   "language": "python",
   "name": "python3"
  },
  "language_info": {
   "codemirror_mode": {
    "name": "ipython",
    "version": 3
   },
   "file_extension": ".py",
   "mimetype": "text/x-python",
   "name": "python",
   "nbconvert_exporter": "python",
   "pygments_lexer": "ipython3",
   "version": "3.10.6"
  }
 },
 "nbformat": 4,
 "nbformat_minor": 5
}
