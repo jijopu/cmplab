{
 "cells": [
  {
   "cell_type": "markdown",
   "id": "519c9f99",
   "metadata": {},
   "source": [
    "# Random Trajectory in 1-D & 2-D"
   ]
  },
  {
   "cell_type": "markdown",
   "id": "5050b299",
   "metadata": {},
   "source": [
    "https://moodle2.units.it/pluginfile.php/138066/mod_resource/content/1/rw.pdf"
   ]
  },
  {
   "cell_type": "markdown",
   "id": "20a21ac4",
   "metadata": {},
   "source": [
    "https://www.codingem.com/random-walk-in-python/"
   ]
  },
  {
   "cell_type": "markdown",
   "id": "636573e3",
   "metadata": {},
   "source": [
    "### Algorithm\n",
    "\n",
    "Initialize an object at position y.\n",
    "Randomly move the object up or down. In other words, add or subtract 1 from the y value.\n",
    "Keep track of all the positions of the object, that is, the y values."
   ]
  },
  {
   "cell_type": "markdown",
   "id": "c71e13bf",
   "metadata": {},
   "source": [
    "## 1-D"
   ]
  },
  {
   "cell_type": "code",
   "execution_count": 1,
   "id": "8814bd44",
   "metadata": {},
   "outputs": [
    {
     "data": {
      "image/png": "[encoded data removed]",
      "text/plain": [
       "<Figure size 432x288 with 1 Axes>"
      ]
     },
     "metadata": {
      "needs_background": "light"
     },
     "output_type": "display_data"
    }
   ],
   "source": [
    "import numpy as np\n",
    "import matplotlib.pyplot as plt\n",
    "def Randomwalk1D(n): #n here is the no. of steps that we require\n",
    "   x = 0\n",
    "   y = 0\n",
    "   xposition = [0] #starting from origin (0,0)\n",
    "   yposition = [0] \n",
    "   for i in range (1,n+1):\n",
    "       step = np.random.uniform(0,1)\n",
    "       if step < 0.5: # if step is less than 0.5 we move up    \n",
    "           x += 1\n",
    "           y += 1  #moving up in u direction\n",
    "       if step > 0.5: # if step is greater than 0.5 we move down  \n",
    "           x += 1\n",
    "           y += -1 #moving down in y direction\n",
    " \n",
    "       xposition.append(x)\n",
    "       yposition.append(y)\n",
    "   return [xposition,yposition]\n",
    "Randwalk = Randomwalk1D(1000) #creating an object for the Randomwalk1D class and passing value of n as 100\n",
    "plt.plot(Randwalk[0],Randwalk[1],'r-', label = \"Randwalk1D\") # 'r-' makes the color of the path red\n",
    "plt.title(\"1-D Random Walks\")\n",
    "plt.show()"
   ]
  },
  {
   "cell_type": "markdown",
   "id": "8c4f616a",
   "metadata": {},
   "source": [
    "# 2-D Random Walk"
   ]
  },
  {
   "cell_type": "code",
   "execution_count": 2,
   "id": "9908be27",
   "metadata": {},
   "outputs": [
    {
     "data": {
      "image/png": "[encoded data removed]",
      "text/plain": [
       "<Figure size 432x288 with 1 Axes>"
      ]
     },
     "metadata": {
      "needs_background": "light"
     },
     "output_type": "display_data"
    }
   ],
   "source": [
    "import numpy as np \n",
    "import pylab \n",
    "import random \n",
    "n = 1000 #n is the number of steps(increase in the value of n increses the compelxity of graph) \n",
    "x = np.zeros(n) # x and y are arrays which store the coordinates of the position \n",
    "y = np.zeros(n) \n",
    "direction=[\"NORTH\",\"SOUTH\",\"EAST\",\"WEST\"] # Assuming the four directions of movement.\n",
    "for i in range(1, n): \n",
    "    step = random.choice(direction) #Randomly choosing the direction of movement. \n",
    "    if step == \"EAST\": #updating the direction with respect to the direction of motion choosen.\n",
    "        x[i] = x[i - 1] + 1\n",
    "        y[i] = y[i - 1] \n",
    "    elif step == \"WEST\": \n",
    "        x[i] = x[i - 1] - 1\n",
    "        y[i] = y[i - 1] \n",
    "    elif step == \"NORTH\": \n",
    "        x[i] = x[i - 1] \n",
    "        y[i] = y[i - 1] + 1\n",
    "    else: \n",
    "        x[i] = x[i - 1] \n",
    "        y[i] = y[i - 1] - 1\n",
    "pylab.title(\"Random Walk 2-D\")\n",
    "pylab.plot(x, y) #plotting the walk.\n",
    "pylab.show()"
   ]
  }
 ],
 "metadata": {
  "kernelspec": {
   "display_name": "Python 3 (ipykernel)",
   "language": "python",
   "name": "python3"
  },
  "language_info": {
   "codemirror_mode": {
    "name": "ipython",
    "version": 3
   },
   "file_extension": ".py",
   "mimetype": "text/x-python",
   "name": "python",
   "nbconvert_exporter": "python",
   "pygments_lexer": "ipython3",
   "version": "3.10.6"
  }
 },
 "nbformat": 4,
 "nbformat_minor": 5
}
