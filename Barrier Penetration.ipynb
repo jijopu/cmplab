{
 "cells": [
  {
   "cell_type": "markdown",
   "id": "a858bb4a",
   "metadata": {},
   "source": [
    "Time-independent Schrödinger equation for a particle in a potential barrier and plots the wave function outside and inside the barrier:"
   ]
  },
  {
   "cell_type": "code",
   "execution_count": 1,
   "id": "11d3a7d8",
   "metadata": {},
   "outputs": [
    {
     "data": {
      "image/png": "[encoded data removed]",
      "text/plain": [
       "<Figure size 432x288 with 1 Axes>"
      ]
     },
     "metadata": {
      "needs_background": "light"
     },
     "output_type": "display_data"
    }
   ],
   "source": [
    "import numpy as np\n",
    "import matplotlib.pyplot as plt\n",
    "\n",
    "# Constants\n",
    "hbar = 1.055e-34  # Reduced Planck constant (J*s)\n",
    "m = 9.109e-31  # Mass of the particle (kg)\n",
    "V0 = 50  # Barrier height (eV)\n",
    "a = 0.5e-9  # Barrier width (m)\n",
    "x_min = -1e-9  # Minimum x value (m)\n",
    "x_max = 1e-9  # Maximum x value (m)\n",
    "\n",
    "# Potential function\n",
    "def V(x):\n",
    "    if abs(x) < a/2:\n",
    "        return 0\n",
    "    else:\n",
    "        return V0\n",
    "\n",
    "# Discretize the x range\n",
    "N = 1000  # Number of points\n",
    "x = np.linspace(x_min, x_max, N)\n",
    "dx = x[1] - x[0]\n",
    "\n",
    "# Initialize the Hamiltonian matrix\n",
    "H = np.zeros((N, N))\n",
    "for i in range(N):\n",
    "    H[i, i] = (2*m/hbar**2)*(V(x[i]) + (hbar**2/(2*m))*(np.pi/dx)**2)\n",
    "    if i > 0:\n",
    "        H[i, i-1] = -m/hbar**2\n",
    "    if i < N-1:\n",
    "        H[i, i+1] = -m/hbar**2\n",
    "\n",
    "# Solve the eigenvalue problem\n",
    "E, psi = np.linalg.eigh(H)\n",
    "\n",
    "# Normalize the wave function\n",
    "psi = psi / np.sqrt(dx)\n",
    "\n",
    "# Plot the wave function outside the barrier\n",
    "x_outside = x[x > a/2]\n",
    "psi_outside = psi[:, 0][x > a/2]\n",
    "plt.plot(x_outside*1e9, psi_outside, label='Outside barrier')\n",
    "\n",
    "# Plot the wave function inside the barrier\n",
    "x_inside = x[x < a/2]\n",
    "psi_inside = psi[:, 0][x < a/2]\n",
    "plt.plot(x_inside*1e9, psi_inside, label='Inside barrier')\n",
    "\n",
    "# Plot the potential barrier\n",
    "plt.plot([-a/2*1e9, a/2*1e9], [V0, V0], 'k-', label='Potential barrier')\n",
    "\n",
    "# Plot settings\n",
    "plt.xlabel('Position (nm)')\n",
    "plt.ylabel('Wave function (nm^-1/2)')\n",
    "plt.legend()\n",
    "plt.show()"
   ]
  },
  {
   "cell_type": "markdown",
   "id": "9024a062",
   "metadata": {},
   "source": [
    "This program will solve the time-independent Schrödinger equation for a particle in a potential barrier and plot the wave function outside and inside the barrier. The program uses the finite difference method to discretize the spatial range, constructs the Hamiltonian matrix, and solves the eigenvalue problem.\n",
    "\n",
    "The wave function is then normalized and plotted."
   ]
  },
  {
   "cell_type": "code",
   "execution_count": null,
   "id": "32ef9d4c",
   "metadata": {},
   "outputs": [],
   "source": []
  }
 ],
 "metadata": {
  "kernelspec": {
   "display_name": "Python 3 (ipykernel)",
   "language": "python",
   "name": "python3"
  },
  "language_info": {
   "codemirror_mode": {
    "name": "ipython",
    "version": 3
   },
   "file_extension": ".py",
   "mimetype": "text/x-python",
   "name": "python",
   "nbconvert_exporter": "python",
   "pygments_lexer": "ipython3",
   "version": "3.10.6"
  }
 },
 "nbformat": 4,
 "nbformat_minor": 5
}
