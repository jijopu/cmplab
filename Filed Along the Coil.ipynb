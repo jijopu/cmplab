{
 "cells": [
  {
   "cell_type": "markdown",
   "id": "29a21711",
   "metadata": {},
   "source": [
    "# Program to Calculate the Field Along the Axis of a Coil"
   ]
  },
  {
   "cell_type": "markdown",
   "id": "414ae33d",
   "metadata": {},
   "source": [
    "https://dkpandey.weebly.com/uploads/1/3/5/3/13534845/circular_coil.pdf"
   ]
  },
  {
   "cell_type": "markdown",
   "id": "f59be9e6",
   "metadata": {},
   "source": [
    "### Objective: To study the variation of magnetic field with the distance along the axis of current carrying circular coil and plot the field distribution."
   ]
  },
  {
   "cell_type": "code",
   "execution_count": null,
   "id": "8d5ee269",
   "metadata": {},
   "outputs": [],
   "source": []
  }
 ],
 "metadata": {
  "kernelspec": {
   "display_name": "Python 3 (ipykernel)",
   "language": "python",
   "name": "python3"
  },
  "language_info": {
   "codemirror_mode": {
    "name": "ipython",
    "version": 3
   },
   "file_extension": ".py",
   "mimetype": "text/x-python",
   "name": "python",
   "nbconvert_exporter": "python",
   "pygments_lexer": "ipython3",
   "version": "3.10.4"
  }
 },
 "nbformat": 4,
 "nbformat_minor": 5
}
