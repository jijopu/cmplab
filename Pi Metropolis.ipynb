{
 "cells": [
  {
   "cell_type": "markdown",
   "id": "c8f2c14e",
   "metadata": {},
   "source": [
    "This program uses the Metropolis algorithm to determine the value of pi. The Metropolis algorithm is a Markov Chain Monte Carlo (MCMC) method that is used to sample from a probability distribution. The algorithm starts by generating a random sample from a uniform distribution, and then accepting or rejecting the sample based on a probability criterion.\n",
    "\n",
    "The program generates random samples for x and y coordinates within a unit square, it checks if the point belongs to the unit circle, if the point belongs to the unit circle it is accepted otherwise it's rejected. It then computes the value of pi by multiplying the ratio of the number of accepted samples to"
   ]
  },
  {
   "cell_type": "code",
   "execution_count": 4,
   "id": "65b1312e",
   "metadata": {},
   "outputs": [
    {
     "name": "stdout",
     "output_type": "stream",
     "text": [
      "The value of pi is: 3.144112\n"
     ]
    }
   ],
   "source": [
    "import random\n",
    "import math\n",
    "\n",
    "# Parameters\n",
    "n_samples = 1000000 # number of samples\n",
    "n_accepted = 0 # number of accepted samples\n",
    "\n",
    "# Run the Metropolis algorithm\n",
    "for i in range(n_samples):\n",
    "    x = random.uniform(-1, 1)\n",
    "    y = random.uniform(-1, 1)\n",
    "    if math.sqrt(x**2 + y**2) <= 1:\n",
    "        n_accepted += 1\n",
    "\n",
    "# Compute the value of pi\n",
    "pi = 4 * (n_accepted / n_samples)\n",
    "print('The value of pi is:', pi)"
   ]
  },
  {
   "cell_type": "code",
   "execution_count": null,
   "id": "cea43e17",
   "metadata": {},
   "outputs": [],
   "source": []
  }
 ],
 "metadata": {
  "kernelspec": {
   "display_name": "Python 3 (ipykernel)",
   "language": "python",
   "name": "python3"
  },
  "language_info": {
   "codemirror_mode": {
    "name": "ipython",
    "version": 3
   },
   "file_extension": ".py",
   "mimetype": "text/x-python",
   "name": "python",
   "nbconvert_exporter": "python",
   "pygments_lexer": "ipython3",
   "version": "3.10.6"
  }
 },
 "nbformat": 4,
 "nbformat_minor": 5
}
