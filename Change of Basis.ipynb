{
 "cells": [
  {
   "cell_type": "markdown",
   "id": "90b7b8fa",
   "metadata": {},
   "source": [
    "# Change of Basis of a Complex Matrix"
   ]
  },
  {
   "cell_type": "markdown",
   "id": "caf34e8f",
   "metadata": {},
   "source": [
    "## 2x2 Matrix"
   ]
  },
  {
   "cell_type": "code",
   "execution_count": 1,
   "id": "c7294014",
   "metadata": {},
   "outputs": [
    {
     "name": "stdout",
     "output_type": "stream",
     "text": [
      "Original matrix:\n",
      " [[1.+2.j 3.+4.j]\n",
      " [5.+6.j 7.+8.j]]\n",
      "\n",
      "Change of basis matrix:\n",
      " [[ 1.+0.j  0.+1.j]\n",
      " [ 1.+0.j -0.-1.j]]\n",
      "\n",
      "Inverse of the change of basis matrix:\n",
      " [[ 0.5+0.j   0.5+0.j ]\n",
      " [-0. -0.5j -0. +0.5j]]\n",
      "\n",
      "New matrix in the new basis:\n",
      " [[ 3.+6.j -8.+1.j]\n",
      " [ 2.-7.j  5.+4.j]]\n"
     ]
    }
   ],
   "source": [
    "import numpy as np\n",
    "\n",
    "# Original matrix\n",
    "A = np.array([[1+2j, 3+4j], [5+6j, 7+8j]])\n",
    "\n",
    "# Change of basis matrix\n",
    "P = np.array([[1, 1j], [1, -1j]])\n",
    "\n",
    "# Inverse of the change of basis matrix\n",
    "P_inv = np.linalg.inv(P)\n",
    "\n",
    "# New matrix in the new basis\n",
    "A_new = np.dot(P, np.dot(A, P_inv))\n",
    "\n",
    "print(\"Original matrix:\\n\", A)\n",
    "print(\"\\nChange of basis matrix:\\n\", P)\n",
    "print(\"\\nInverse of the change of basis matrix:\\n\", P_inv)\n",
    "print(\"\\nNew matrix in the new basis:\\n\", A_new)"
   ]
  },
  {
   "cell_type": "markdown",
   "id": "21a5b3b4",
   "metadata": {},
   "source": []
  },
  {
   "cell_type": "code",
   "execution_count": 2,
   "id": "1b5abb28",
   "metadata": {},
   "outputs": [
    {
     "name": "stdout",
     "output_type": "stream",
     "text": [
      "Original matrix:\n",
      " [[ 1. +2.j  3. +4.j  5. +6.j]\n",
      " [ 7. +8.j  9.+10.j 11.+12.j]\n",
      " [13.+14.j 15.+16.j 17.+18.j]]\n",
      "\n",
      "Change of basis matrix:\n",
      " [[ 1.+0.j  0.+1.j  1.+1.j]\n",
      " [ 1.+0.j -0.-1.j  1.-1.j]\n",
      " [ 1.+0.j  1.+0.j  1.+1.j]]\n",
      "\n",
      "Inverse of the change of basis matrix:\n",
      " [[ 0. +0.j   0.5-0.5j  0.5+0.5j]\n",
      " [-0.5-0.5j  0. +0.j   0.5+0.5j]\n",
      " [ 0.5-0.j  -0. +0.5j -0.5-0.5j]]\n",
      "\n",
      "New matrix in the new basis:\n",
      " [[ 22.  +8.j  -12. +18.j  -18. +10.j ]\n",
      " [  2. -22.j   18.  +6.j   16. +12.j ]\n",
      " [ 24.5 -1.5j  -4.5+22.5j -13. +16.j ]]\n"
     ]
    }
   ],
   "source": [
    "import numpy as np\n",
    "\n",
    "# Original matrix\n",
    "A = np.array([[1+2j, 3+4j, 5+6j], [7+8j, 9+10j, 11+12j], [13+14j, 15+16j, 17+18j]])\n",
    "\n",
    "# Change of basis matrix\n",
    "P = np.array([[1, 1j, 1+1j], [1, -1j, 1-1j], [1, 1, 1+1j]])\n",
    "\n",
    "# Inverse of the change of basis matrix\n",
    "P_inv = np.linalg.inv(P)\n",
    "\n",
    "# New matrix in the new basis\n",
    "A_new = np.dot(P, np.dot(A, P_inv))\n",
    "\n",
    "print(\"Original matrix:\\n\", A)\n",
    "print(\"\\nChange of basis matrix:\\n\", P)\n",
    "print(\"\\nInverse of the change of basis matrix:\\n\", P_inv)\n",
    "print(\"\\nNew matrix in the new basis:\\n\", A_new)"
   ]
  },
  {
   "cell_type": "code",
   "execution_count": null,
   "id": "93822ec8",
   "metadata": {},
   "outputs": [],
   "source": []
  }
 ],
 "metadata": {
  "kernelspec": {
   "display_name": "Python 3 (ipykernel)",
   "language": "python",
   "name": "python3"
  },
  "language_info": {
   "codemirror_mode": {
    "name": "ipython",
    "version": 3
   },
   "file_extension": ".py",
   "mimetype": "text/x-python",
   "name": "python",
   "nbconvert_exporter": "python",
   "pygments_lexer": "ipython3",
   "version": "3.10.6"
  }
 },
 "nbformat": 4,
 "nbformat_minor": 5
}
