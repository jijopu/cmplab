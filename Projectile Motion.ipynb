{
 "cells": [
  {
   "cell_type": "markdown",
   "id": "0bf13a64",
   "metadata": {},
   "source": [
    "## A projectile with air resistance"
   ]
  },
  {
   "cell_type": "markdown",
   "id": "86b737c2",
   "metadata": {},
   "source": [
    "https://scipython.com/book2/chapter-8-scipy/examples/a-projectile-with-air-resistance/"
   ]
  },
  {
   "cell_type": "code",
   "execution_count": 3,
   "id": "db34af7e",
   "metadata": {},
   "outputs": [
    {
     "name": "stdout",
     "output_type": "stream",
     "text": [
      "  message: 'A termination event occurred.'\n",
      "     nfev: 56\n",
      "     njev: 0\n",
      "      nlu: 0\n",
      "      sol: <scipy.integrate._ivp.common.OdeSolution object at 0x7ffab84eed10>\n",
      "   status: 1\n",
      "  success: True\n",
      "        t: array([0.00000000e+00, 2.82832899e-05, 3.11116189e-04, 3.13944518e-03,\n",
      "       3.14227351e-02, 3.14255634e-01, 1.06058938e+00, 2.22188636e+00,\n",
      "       4.15895918e+00, 6.33623381e+00])\n",
      " t_events: [array([6.33623381]), array([2.7939952])]\n",
      "        y: array([[ 0.00000000e+00,  5.97646750e-04,  6.57356524e-03,\n",
      "         6.62779269e-02,  6.57916020e-01,  6.10052110e+00,\n",
      "         1.76432193e+01,  3.14572077e+01,  4.97860543e+01,\n",
      "         6.41157720e+01],\n",
      "       [ 2.11309131e+01,  2.11305601e+01,  2.11270311e+01,\n",
      "         2.10918152e+01,  2.07469548e+01,  1.79056176e+01,\n",
      "         1.35736705e+01,  1.06743281e+01,  8.24037743e+00,\n",
      "         4.93588825e+00],\n",
      "       [ 0.00000000e+00,  1.28165367e-03,  1.40965814e-02,\n",
      "         1.42085158e-01,  1.40609179e+00,  1.26238480e+01,\n",
      "         3.30428628e+01,  4.77695979e+01,  4.08233380e+01,\n",
      "         1.42108547e-14],\n",
      "       [ 4.53153894e+01,  4.53143549e+01,  4.53040126e+01,\n",
      "         4.52007742e+01,  4.41865291e+01,  3.55487022e+01,\n",
      "         2.04834916e+01,  5.84021051e+00, -1.21281464e+01,\n",
      "        -2.36334696e+01]])\n",
      " y_events: [array([[ 6.41157720e+01,  4.93588825e+00,  1.42108547e-14,\n",
      "        -2.36334696e+01]]), array([[ 3.73418434e+01,  9.92560564e+00,  4.94245420e+01,\n",
      "        -1.77635684e-15]])]\n",
      "Time to target = 6.34 s\n",
      "Time to highest point = 2.79 s\n",
      "Range to target, xmax = 64.12 m\n",
      "Maximum height, zmax = 49.42 m\n"
     ]
    },
    {
     "data": {
      "image/png": "[encoded data removed]",
      "text/plain": [
       "<Figure size 432x288 with 1 Axes>"
      ]
     },
     "metadata": {
      "needs_background": "light"
     },
     "output_type": "display_data"
    }
   ],
   "source": [
    "import numpy as np\n",
    "from scipy.integrate import solve_ivp\n",
    "import matplotlib.pyplot as plt\n",
    "\n",
    "# Drag coefficient, projectile radius (m), area (m2) and mass (kg).\n",
    "c = 0.47\n",
    "r = 0.05\n",
    "A = np.pi * r**2\n",
    "m = 0.2\n",
    "# Air density (kg.m-3), acceleration due to gravity (m.s-2).\n",
    "rho_air = 1.28 # Make this zero make it drag free motion\n",
    "g = 9.81\n",
    "# For convenience, define  this constant.\n",
    "k = 0.5 * c * rho_air * A\n",
    "\n",
    "# Initial speed and launch angle (from the horizontal).\n",
    "v0 = 50\n",
    "phi0 = np.radians(65)\n",
    "\n",
    "def deriv(t, u):\n",
    "    x, xdot, z, zdot = u\n",
    "    speed = np.hypot(xdot, zdot)\n",
    "    xdotdot = -k/m * speed * xdot\n",
    "    zdotdot = -k/m * speed * zdot - g\n",
    "    return xdot, xdotdot, zdot, zdotdot\n",
    "\n",
    "# Initial conditions: x0, v0_x, z0, v0_z.\n",
    "u0 = 0, v0 * np.cos(phi0), 0., v0 * np.sin(phi0)\n",
    "# Integrate up to tf unless we hit the target sooner.\n",
    "t0, tf = 0, 50\n",
    "\n",
    "def hit_target(t, u):\n",
    "    # We've hit the target if the z-coordinate is 0.\n",
    "    return u[2]\n",
    "# Stop the integration when we hit the target.\n",
    "hit_target.terminal = True\n",
    "# We must be moving downwards (don't stop before we begin moving upwards!)\n",
    "hit_target.direction = -1\n",
    "\n",
    "def max_height(t, u):\n",
    "    # The maximum height is obtained when the z-velocity is zero.\n",
    "    return u[3]\n",
    "\n",
    "soln = solve_ivp(deriv, (t0, tf), u0, dense_output=True,\n",
    "                 events=(hit_target, max_height))\n",
    "print(soln)\n",
    "print('Time to target = {:.2f} s'.format(soln.t_events[0][0]))\n",
    "print('Time to highest point = {:.2f} s'.format(soln.t_events[1][0]))\n",
    "\n",
    "# A fine grid of time points from 0 until impact time.\n",
    "t = np.linspace(0, soln.t_events[0][0], 100)\n",
    "\n",
    "# Retrieve the solution for the time grid and plot the trajectory.\n",
    "sol = soln.sol(t)\n",
    "x, z = sol[0], sol[2]\n",
    "print('Range to target, xmax = {:.2f} m'.format(x[-1]))\n",
    "print('Maximum height, zmax = {:.2f} m'.format(max(z)))\n",
    "plt.plot(x, z)\n",
    "plt.xlabel('x /m')\n",
    "plt.ylabel('z /m')\n",
    "plt.show()"
   ]
  },
  {
   "cell_type": "markdown",
   "id": "45e2cf74",
   "metadata": {},
   "source": [
    "## Euler Method"
   ]
  },
  {
   "cell_type": "code",
   "execution_count": 6,
   "id": "a1516617",
   "metadata": {},
   "outputs": [
    {
     "name": "stdout",
     "output_type": "stream",
     "text": [
      "80 60.0\n"
     ]
    }
   ],
   "source": [
    "import numpy as np\n",
    "import matplotlib.pyplot as plt\n",
    "#matplotlib inline\n",
    "\n",
    "# Model parameters\n",
    "M = 1.0          # Mass of projectile in kg\n",
    "g = 9.8          # Acceleration due to gravity (m/s^2)\n",
    "V = 80           # Initial velocity in m/s\n",
    "ang = 60.0       # Angle of initial velocity in degrees\n",
    "Cd = 0.005       # Drag coefficient\n",
    "dt = 0.5         # time step in s\n",
    "\n",
    "# You can check the variables by printing them out\n",
    "print(V, ang)"
   ]
  },
  {
   "cell_type": "code",
   "execution_count": 8,
   "id": "8f61cc26",
   "metadata": {},
   "outputs": [
    {
     "name": "stdout",
     "output_type": "stream",
     "text": [
      "-16.000000000000004\n",
      "-37.51281292110204\n",
      "40.00000000000001\n",
      "69.28203230275508\n"
     ]
    }
   ],
   "source": [
    "# Set up the lists to store variables\n",
    "# Start by putting the initial velocities at t=0\n",
    "t = [0]                         # list to keep track of time\n",
    "vx = [V*np.cos(ang/180*np.pi)]  # list for velocity x and y components\n",
    "vy = [V*np.sin(ang/180*np.pi)]\n",
    "\n",
    "# Drag force\n",
    "drag = Cd*V**2                      # drag force \n",
    "\n",
    "# Create the lists for acceleration components\n",
    "ax = [-(drag*np.cos(ang/180*np.pi))/M]        \n",
    "ay = [-g-(drag*np.sin(ang/180*np.pi)/M)]\n",
    "\n",
    "# Print out some values to check\n",
    "print(ax[0])\n",
    "print(ay[0]) \n",
    "print (vx[0])\n",
    "print (vy[0])"
   ]
  },
  {
   "cell_type": "code",
   "execution_count": 10,
   "id": "2b813ffd",
   "metadata": {},
   "outputs": [
    {
     "name": "stdout",
     "output_type": "stream",
     "text": [
      "t= [0, 0.5, 1.0, 1.5, 2.0, 2.5, 3.0, 3.5, 4.0, 4.5, 5.0]\n",
      "vx= [40.00000000000001, 32.00000000000001, 27.528951416567008, 24.787883378136915, 23.02339491459251, 21.846818145611152, 21.027776019653995, 20.413445666052425, 19.89116281938412, 19.368416481078107, 18.760291921319446]\n"
     ]
    },
    {
     "data": {
      "text/plain": [
       "Text(0.5, 0, 'time (s)')"
      ]
     },
     "execution_count": 10,
     "metadata": {},
     "output_type": "execute_result"
    },
    {
     "data": {
      "image/png": "[encoded data removed]",
      "text/plain": [
       "<Figure size 432x288 with 1 Axes>"
      ]
     },
     "metadata": {
      "needs_background": "light"
     },
     "output_type": "display_data"
    }
   ],
   "source": [
    "# Use Euler method to update variables\n",
    "counter = 0\n",
    "while (counter < 10):\n",
    "    t.append(t[counter]+dt)                # increment by dt and add to the list of time \n",
    "    vx.append(vx[counter]+dt*ax[counter])  # Update the velocity\n",
    "    vy.append(vy[counter]+dt*ay[counter])  \n",
    "\n",
    "    # With the new velocity calculate the drag force\n",
    "    vel = np.sqrt(vx[counter+1]**2 + vy[counter+1]**2)   # magnitude of velocity\n",
    "    drag = Cd*vel**2                                   # drag force \n",
    "    ax.append(-(drag*np.cos(ang/180*np.pi))/M)     \n",
    "    ay.append(-g-(drag*np.sin(ang/180*np.pi)/M))\n",
    "    \n",
    "    # Increment the counter by 1\n",
    "    counter = counter +1\n",
    "\n",
    "# Print the values to check\n",
    "print(\"t=\", t)\n",
    "print(\"vx=\", vx)\n",
    "\n",
    "# Let's plot the velocity against time\n",
    "plt.plot(t,vx)\n",
    "plt.ylabel(\"x-velocity (m/s)\")\n",
    "plt.xlabel(\"time (s)\")"
   ]
  },
  {
   "cell_type": "code",
   "execution_count": 12,
   "id": "d82ce7a6",
   "metadata": {},
   "outputs": [
    {
     "name": "stdout",
     "output_type": "stream",
     "text": [
      "Range of projectile is 124.9 m\n"
     ]
    },
    {
     "data": {
      "image/png": "[encoded data removed]",
      "text/plain": [
       "<Figure size 432x288 with 1 Axes>"
      ]
     },
     "metadata": {
      "needs_background": "light"
     },
     "output_type": "display_data"
    }
   ],
   "source": [
    "# Initialise the lists for x and y\n",
    "x = [0]\n",
    "y = [0]\n",
    "\n",
    "# Use Euler method to update variables\n",
    "counter = 0\n",
    "while (counter < 10):\n",
    "    # Update the positions x and y\n",
    "    x.append(x[counter]+dt*vx[counter])    \n",
    "    y.append(y[counter]+dt*vy[counter])    \n",
    "    # Increment the counter by 1\n",
    "    counter = counter +1\n",
    "\n",
    "\n",
    "# Let's plot the trajectory\n",
    "plt.plot(x,y,'ro')\n",
    "plt.ylabel(\"y (m)\")\n",
    "plt.xlabel(\"x (m)\")\n",
    "print(\"Range of projectile is {:3.1f} m\".format(x[counter]))"
   ]
  },
  {
   "cell_type": "code",
   "execution_count": 17,
   "id": "d702cf0c",
   "metadata": {},
   "outputs": [
    {
     "name": "stdout",
     "output_type": "stream",
     "text": [
      "80 60.0\n",
      "Range of projectile is 174.4 m\n"
     ]
    },
    {
     "data": {
      "image/png": "[encoded data removed]",
      "text/plain": [
       "<Figure size 432x288 with 1 Axes>"
      ]
     },
     "metadata": {
      "needs_background": "light"
     },
     "output_type": "display_data"
    }
   ],
   "source": [
    "import numpy as np\n",
    "import matplotlib.pyplot as plt#matplotlib inline\n",
    "\n",
    "# Model parameters\n",
    "M = 1.0          # Mass of projectile in kg\n",
    "g = 9.8          # Acceleration due to gravity (m/s^2)\n",
    "V = 80           # Initial velocity in m/s\n",
    "ang = 60.0       # Angle of initial velocity in degrees\n",
    "Cd = 0.005       # Drag coefficient\n",
    "dt = 0.5         # time step in s\n",
    "\n",
    "# You can check the variables by printing them out\n",
    "print(V, ang)\n",
    "\n",
    "# Set up the lists to store variables\n",
    "# Initialize the velocity and position at t=0\n",
    "t = [0]                         # list to keep track of time\n",
    "vx = [V*np.cos(ang/180*np.pi)]  # list for velocity x and y components\n",
    "vy = [V*np.sin(ang/180*np.pi)]\n",
    "x = [0]                         # list for x and y position\n",
    "y = [0]\n",
    "\n",
    "# Drag force\n",
    "drag=Cd*V**2                      # drag force \n",
    "\n",
    "# Acceleration components\n",
    "ax = [-(drag*np.cos(ang/180*np.pi))/M ]          \n",
    "ay = [-g-(drag*np.sin(ang/180*np.pi)/M) ]\n",
    "\n",
    "## Leave this out for students to try\n",
    "# We can choose to have better control of the time-step here\n",
    "dt = 0.2\n",
    "\n",
    "# Use Euler method to update variables\n",
    "counter = 0\n",
    "while (y[counter] >= 0):                   # Check that the last value of y is >= 0\n",
    "    t.append(t[counter]+dt)                # increment by dt and add to the list of time \n",
    "    \n",
    "    \n",
    "    \n",
    "    # Update velocity\n",
    "    vx.append(vx[counter]+dt*ax[counter])  # Update the velocity\n",
    "    vy.append(vy[counter]+dt*ay[counter])\n",
    "\n",
    "    # Update position\n",
    "    x.append(x[counter]+dt*vx[counter])    \n",
    "    y.append(y[counter]+dt*vy[counter])    \n",
    "\n",
    "    # With the new velocity calculate the drag force and update acceleration\n",
    "    vel = np.sqrt(vx[counter+1]**2 + vy[counter+1]**2)   # magnitude of velocity\n",
    "    drag = Cd*vel**2                                   # drag force \n",
    "    ax.append(-(drag*np.cos(ang/180*np.pi))/M)     \n",
    "    ay.append(-g-(drag*np.sin(ang/180*np.pi)/M))\n",
    "    \n",
    "    # Increment the counter by 1\n",
    "    counter = counter +1\n",
    "\n",
    "# Let's plot the trajectory\n",
    "plt.plot(x,y,'ro')\n",
    "plt.ylabel(\"y (m)\")\n",
    "plt.xlabel(\"x (m)\")\n",
    "   \n",
    "# The last value of x should give the range of the projectile approximately.\n",
    "\n",
    "print(\"Range of projectile is {:3.1f} m\".format(x[counter]))"
   ]
  },
  {
   "cell_type": "code",
   "execution_count": null,
   "id": "cdff5531",
   "metadata": {},
   "outputs": [],
   "source": []
  }
 ],
 "metadata": {
  "kernelspec": {
   "display_name": "Python 3 (ipykernel)",
   "language": "python",
   "name": "python3"
  },
  "language_info": {
   "codemirror_mode": {
    "name": "ipython",
    "version": 3
   },
   "file_extension": ".py",
   "mimetype": "text/x-python",
   "name": "python",
   "nbconvert_exporter": "python",
   "pygments_lexer": "ipython3",
   "version": "3.10.6"
  }
 },
 "nbformat": 4,
 "nbformat_minor": 5
}
