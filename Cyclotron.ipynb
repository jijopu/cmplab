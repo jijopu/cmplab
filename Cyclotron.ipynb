{
 "cells": [
  {
   "cell_type": "markdown",
   "id": "0bf72dc2",
   "metadata": {},
   "source": [
    "A cyclotron is a type of particle accelerator that uses a magnetic field to bend the trajectory of charged particles in a circular path. Here's a program in Python that simulates the trajectory of an ion in a cyclotron accelerator:"
   ]
  },
  {
   "cell_type": "code",
   "execution_count": 1,
   "id": "f2b2b6ac",
   "metadata": {},
   "outputs": [
    {
     "name": "stderr",
     "output_type": "stream",
     "text": [
      "/tmp/ipykernel_9437/4147143149.py:24: RuntimeWarning: overflow encountered in double_scalars\n",
      "  ax = q*B*vy[-1]/m\n",
      "/tmp/ipykernel_9437/4147143149.py:26: RuntimeWarning: invalid value encountered in double_scalars\n",
      "  vx.append(vx[-1] + ax*dt)\n"
     ]
    },
    {
     "data": {
      "image/png": "[encoded data removed]",
      "text/plain": [
       "<Figure size 432x288 with 1 Axes>"
      ]
     },
     "metadata": {
      "needs_background": "light"
     },
     "output_type": "display_data"
    }
   ],
   "source": [
    "import numpy as np\n",
    "import matplotlib.pyplot as plt\n",
    "\n",
    "# Constants\n",
    "q = 1.6e-19  # Charge of the ion (C)\n",
    "m = 1.67e-27  # Mass of the ion (kg)\n",
    "B = 1.5  # Magnetic field strength (T)\n",
    "r_0 = 0.5  # Initial radius (m)\n",
    "v_0 = 2e6  # Initial velocity (m/s)\n",
    "\n",
    "# Time step and total time\n",
    "dt = 0.001  # s\n",
    "t_total = 2  # s\n",
    "\n",
    "# Initial position and velocity\n",
    "x = [r_0*np.cos(v_0/B)]\n",
    "y = [r_0*np.sin(v_0/B)]\n",
    "vx = [v_0*np.cos(v_0/B)]\n",
    "vy = [v_0*np.sin(v_0/B)]\n",
    "\n",
    "# Time loop\n",
    "for t in np.arange(0, t_total, dt):\n",
    "    # Equations of motion\n",
    "    ax = q*B*vy[-1]/m\n",
    "    ay = -q*B*vx[-1]/m\n",
    "    vx.append(vx[-1] + ax*dt)\n",
    "    vy.append(vy[-1] + ay*dt)\n",
    "    x.append(x[-1] + vx[-1]*dt)\n",
    "    y.append(y[-1] + vy[-1]*dt)\n",
    "\n",
    "# Plot the trajectory\n",
    "plt.plot(x, y)\n",
    "plt.xlabel('x (m)')\n",
    "plt.ylabel('y (m)')\n",
    "plt.show()"
   ]
  },
  {
   "cell_type": "markdown",
   "id": "a2e1347b",
   "metadata": {},
   "source": [
    "This program will simulate the motion of an ion in the cyclotron accelerator for 2 seconds, and will plot the trajectory of the ion. The program uses the equations of motion for an ion moving in a magnetic field to calculate the position and velocity of the ion at each time step."
   ]
  },
  {
   "cell_type": "code",
   "execution_count": null,
   "id": "a97292da",
   "metadata": {},
   "outputs": [],
   "source": []
  }
 ],
 "metadata": {
  "kernelspec": {
   "display_name": "Python 3 (ipykernel)",
   "language": "python",
   "name": "python3"
  },
  "language_info": {
   "codemirror_mode": {
    "name": "ipython",
    "version": 3
   },
   "file_extension": ".py",
   "mimetype": "text/x-python",
   "name": "python",
   "nbconvert_exporter": "python",
   "pygments_lexer": "ipython3",
   "version": "3.10.6"
  }
 },
 "nbformat": 4,
 "nbformat_minor": 5
}
