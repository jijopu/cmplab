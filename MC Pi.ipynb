{
 "cells": [
  {
   "cell_type": "markdown",
   "id": "7e3de308",
   "metadata": {},
   "source": [
    "# Estimating the value of Pi using Monte Carlo"
   ]
  },
  {
   "cell_type": "markdown",
   "id": "6330700c",
   "metadata": {},
   "source": [
    "# Monte Carlo estimation \n",
    "Monte Carlo methods are a broad class of computational algorithms that rely on repeated random sampling to obtain numerical results. One of the basic examples of getting started with the Monte Carlo algorithm is the estimation of Pi. "
   ]
  },
  {
   "cell_type": "markdown",
   "id": "2e0a9547",
   "metadata": {},
   "source": [
    "# Estimation of Pi \n",
    "The idea is to simulate random (x, y) points in a 2-D plane with domain as a square of side 2r units centered on (0,0). Imagine a circle inside the same domain with same radius r and inscribed into the square. We then calculate the ratio of number points that lied inside the circle and total number of generated points."
   ]
  },
  {
   "cell_type": "markdown",
   "id": "7853a194",
   "metadata": {},
   "source": [
    "$\\frac{\\pi}{4}=\\frac{no. of ~points ~generated~ inside ~the~ circle}{no. ~of ~points ~generated ~inside ~the ~square}$"
   ]
  },
  {
   "cell_type": "markdown",
   "id": "359eee0e",
   "metadata": {},
   "source": [
    "The Algorithm \n",
    "1. Initialize circle_points, square_points and interval to 0. \n",
    "2. Generate random point x. \n",
    "3. Generate random point y. \n",
    "4. Calculate d = x*x + y*y. \n",
    "5. If d <= 1, increment circle_points. \n",
    "6. Increment square_points. \n",
    "7. Increment interval. \n",
    "8. If increment < NO_OF_ITERATIONS, repeat from 2. \n",
    "9. Calculate pi = 4*(circle_points/square_points). \n",
    "10. Terminate.\n",
    "The code doesn’t wait for any input via stdin as the macro INTERVAL could be changed as per the required number of iterations. Number of iterations are the square of INTERVAL. Also, I’ve paused the screen for first 10 iterations with getch() and outputs are displayed for every iteration with format given below. You can change or delete them as per requirement. "
   ]
  },
  {
   "cell_type": "code",
   "execution_count": 3,
   "id": "611c49b6",
   "metadata": {},
   "outputs": [
    {
     "name": "stdout",
     "output_type": "stream",
     "text": [
      "Final Estimation of Pi= 3.143428\n"
     ]
    }
   ],
   "source": [
    "import random\n",
    " \n",
    "INTERVAL = 1000\n",
    " \n",
    "circle_points = 0\n",
    "square_points = 0\n",
    " \n",
    "# Total Random numbers generated= possible x\n",
    "# values* possible y values\n",
    "for i in range(INTERVAL**2):\n",
    " \n",
    "    # Randomly generated x and y values from a\n",
    "    # uniform distribution\n",
    "    # Range of x and y values is -1 to 1\n",
    "    rand_x = random.uniform(-1, 1)\n",
    "    rand_y = random.uniform(-1, 1)\n",
    " \n",
    "    # Distance between (x, y) from the origin\n",
    "    origin_dist = rand_x**2 + rand_y**2\n",
    " \n",
    "    # Checking if (x, y) lies inside the circle\n",
    "    if origin_dist <= 1:\n",
    "        circle_points += 1\n",
    " \n",
    "    square_points += 1\n",
    " \n",
    "    # Estimating value of pi,\n",
    "    # pi= 4*(no. of points generated inside the\n",
    "    # circle)/ (no. of points generated inside the square)\n",
    "    pi = 4 * circle_points / square_points\n",
    " \n",
    "##    print(rand_x, rand_y, circle_points, square_points, \"-\", pi)\n",
    "# print(\"\\n\")\n",
    " \n",
    "print(\"Final Estimation of Pi=\", pi)"
   ]
  },
  {
   "cell_type": "code",
   "execution_count": null,
   "id": "098115e8",
   "metadata": {},
   "outputs": [],
   "source": []
  }
 ],
 "metadata": {
  "kernelspec": {
   "display_name": "Python 3 (ipykernel)",
   "language": "python",
   "name": "python3"
  },
  "language_info": {
   "codemirror_mode": {
    "name": "ipython",
    "version": 3
   },
   "file_extension": ".py",
   "mimetype": "text/x-python",
   "name": "python",
   "nbconvert_exporter": "python",
   "pygments_lexer": "ipython3",
   "version": "3.10.6"
  }
 },
 "nbformat": 4,
 "nbformat_minor": 5
}
