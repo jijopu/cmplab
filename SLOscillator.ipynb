{
 "cells": [
  {
   "cell_type": "code",
   "execution_count": 5,
   "id": "f8b1594c",
   "metadata": {},
   "outputs": [
    {
     "data": {
      "image/png": "[encoded data removed]",
      "text/plain": [
       "<Figure size 432x288 with 1 Axes>"
      ]
     },
     "metadata": {
      "needs_background": "light"
     },
     "output_type": "display_data"
    }
   ],
   "source": [
    "import numpy as np\n",
    "import matplotlib.pyplot as plt\n",
    "\n",
    "# Parameters\n",
    "mu = 1.0 # control parameter\n",
    "\n",
    "# Initial conditions\n",
    "x0 = 1.0 # initial position (m)\n",
    "y0 = 0.0 # initial velocity (m/s)\n",
    "\n",
    "# Time step and simulation time\n",
    "dt = 0.01\n",
    "t_max = 10.0\n",
    "\n",
    "# Create arrays to store the position and velocity data\n",
    "x = [x0]\n",
    "y = [y0]\n",
    "t = [0.0]\n",
    "\n",
    "# Time integration using the Euler-Cromer method\n",
    "while t[-1] < t_max:\n",
    "    x.append(x[-1] + y[-1]*dt)\n",
    "    y.append(y[-1] + (-mu*x[-1]*(x[-1]**2-1)*y[-1])*dt)\n",
    "    t.append(t[-1] + dt)\n",
    "\n",
    "# Plot the phase space trajectory\n",
    "plt.plot(x, y)\n",
    "plt.xlabel('Position (m)')\n",
    "plt.ylabel('Velocity (m/s)')\n",
    "plt.show()"
   ]
  },
  {
   "cell_type": "code",
   "execution_count": null,
   "id": "a73ed566",
   "metadata": {},
   "outputs": [],
   "source": []
  }
 ],
 "metadata": {
  "kernelspec": {
   "display_name": "Python 3 (ipykernel)",
   "language": "python",
   "name": "python3"
  },
  "language_info": {
   "codemirror_mode": {
    "name": "ipython",
    "version": 3
   },
   "file_extension": ".py",
   "mimetype": "text/x-python",
   "name": "python",
   "nbconvert_exporter": "python",
   "pygments_lexer": "ipython3",
   "version": "3.10.6"
  }
 },
 "nbformat": 4,
 "nbformat_minor": 5
}
